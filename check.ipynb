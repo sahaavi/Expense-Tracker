{
 "cells": [
  {
   "cell_type": "code",
   "execution_count": 2,
   "metadata": {},
   "outputs": [
    {
     "name": "stdout",
     "output_type": "stream",
     "text": [
      "No records found\n",
      "None\n"
     ]
    }
   ],
   "source": [
    "import pandas as pd\n",
    "\n",
    "import analysis.search as s\n",
    "\n",
    "statement = pd.read_csv(\"statement.csv\")\n",
    "statement['date'] = pd.to_datetime(statement['date'])\n",
    "#statement = statement['date'].dt.date\n",
    "#cname_u = input(\"Enter the category name: \")\n",
    "#amt = float(input(\"Amount: \"))\n",
    "p = s.Search(statement)\n",
    "#c = p.search_month(\"10\")\n",
    "c = p.search_year(\"2021\")\n",
    "#c = p.search_amount(amt)\n",
    "#c = p.search_category(cname_u, \"07/11/2022\", \"12/11/2022\")\n",
    "#c = p.search_amount(amt, \"07/11/2022\", \"16/11/2022\")\n",
    "#c = p.search_range(\"26/11/2022\", \"23/11/2022\")\n",
    "print(c)"
   ]
  },
  {
   "cell_type": "code",
   "execution_count": null,
   "metadata": {},
   "outputs": [],
   "source": [
    "d = p.search_category(cname_u, \"10/23/2022\", \"11/23/2022\")\n",
    "print(d)"
   ]
  },
  {
   "cell_type": "code",
   "execution_count": 2,
   "metadata": {},
   "outputs": [
    {
     "data": {
      "text/html": [
       "<div>\n",
       "<style scoped>\n",
       "    .dataframe tbody tr th:only-of-type {\n",
       "        vertical-align: middle;\n",
       "    }\n",
       "\n",
       "    .dataframe tbody tr th {\n",
       "        vertical-align: top;\n",
       "    }\n",
       "\n",
       "    .dataframe thead th {\n",
       "        text-align: right;\n",
       "    }\n",
       "</style>\n",
       "<table border=\"1\" class=\"dataframe\">\n",
       "  <thead>\n",
       "    <tr style=\"text-align: right;\">\n",
       "      <th></th>\n",
       "      <th>date</th>\n",
       "      <th>shop_name</th>\n",
       "      <th>amount</th>\n",
       "      <th>category</th>\n",
       "    </tr>\n",
       "  </thead>\n",
       "  <tbody>\n",
       "    <tr>\n",
       "      <th>0</th>\n",
       "      <td>2022-11-26</td>\n",
       "      <td>SQ *SCAPEGOATVINTAGE</td>\n",
       "      <td>35.01</td>\n",
       "      <td>NaN</td>\n",
       "    </tr>\n",
       "    <tr>\n",
       "      <th>1</th>\n",
       "      <td>2022-11-23</td>\n",
       "      <td>SAVE ON FOODS #2229</td>\n",
       "      <td>10.84</td>\n",
       "      <td>grocery</td>\n",
       "    </tr>\n",
       "    <tr>\n",
       "      <th>2</th>\n",
       "      <td>2022-11-23</td>\n",
       "      <td>KELOWNA GOSPEL MISSION</td>\n",
       "      <td>6.40</td>\n",
       "      <td>NaN</td>\n",
       "    </tr>\n",
       "    <tr>\n",
       "      <th>3</th>\n",
       "      <td>2022-11-17</td>\n",
       "      <td>GOLDEN ISLAND RESTAURANT</td>\n",
       "      <td>36.50</td>\n",
       "      <td>NaN</td>\n",
       "    </tr>\n",
       "    <tr>\n",
       "      <th>4</th>\n",
       "      <td>2022-11-16</td>\n",
       "      <td>KOODO TOP UP REAPPROV</td>\n",
       "      <td>15.75</td>\n",
       "      <td>NaN</td>\n",
       "    </tr>\n",
       "    <tr>\n",
       "      <th>5</th>\n",
       "      <td>2022-11-07</td>\n",
       "      <td>MICHAELS #3929</td>\n",
       "      <td>3.55</td>\n",
       "      <td>fashion</td>\n",
       "    </tr>\n",
       "    <tr>\n",
       "      <th>6</th>\n",
       "      <td>2022-11-02</td>\n",
       "      <td>SAVE ON FOODS #2229</td>\n",
       "      <td>11.08</td>\n",
       "      <td>NaN</td>\n",
       "    </tr>\n",
       "  </tbody>\n",
       "</table>\n",
       "</div>"
      ],
      "text/plain": [
       "        date                 shop_name  amount category\n",
       "0 2022-11-26      SQ *SCAPEGOATVINTAGE   35.01      NaN\n",
       "1 2022-11-23       SAVE ON FOODS #2229   10.84  grocery\n",
       "2 2022-11-23    KELOWNA GOSPEL MISSION    6.40      NaN\n",
       "3 2022-11-17  GOLDEN ISLAND RESTAURANT   36.50      NaN\n",
       "4 2022-11-16     KOODO TOP UP REAPPROV   15.75      NaN\n",
       "5 2022-11-07            MICHAELS #3929    3.55  fashion\n",
       "6 2022-11-02       SAVE ON FOODS #2229   11.08      NaN"
      ]
     },
     "execution_count": 2,
     "metadata": {},
     "output_type": "execute_result"
    }
   ],
   "source": [
    "statement"
   ]
  },
  {
   "cell_type": "code",
   "execution_count": 4,
   "metadata": {},
   "outputs": [
    {
     "data": {
      "text/plain": [
       "numpy.float64"
      ]
     },
     "execution_count": 4,
     "metadata": {},
     "output_type": "execute_result"
    }
   ],
   "source": [
    "am = statement[\"amount\"][2]\n",
    "type(am)"
   ]
  },
  {
   "cell_type": "code",
   "execution_count": 1,
   "metadata": {},
   "outputs": [
    {
     "ename": "TypeError",
     "evalue": "c() missing 1 required positional argument: 'age'",
     "output_type": "error",
     "traceback": [
      "\u001b[1;31m---------------------------------------------------------------------------\u001b[0m",
      "\u001b[1;31mTypeError\u001b[0m                                 Traceback (most recent call last)",
      "\u001b[1;32m~\\AppData\\Local\\Temp/ipykernel_18408/2901061432.py\u001b[0m in \u001b[0;36m<module>\u001b[1;34m\u001b[0m\n\u001b[0;32m      2\u001b[0m \u001b[1;33m\u001b[0m\u001b[0m\n\u001b[0;32m      3\u001b[0m \u001b[0mc\u001b[0m \u001b[1;33m=\u001b[0m \u001b[0ms\u001b[0m\u001b[1;33m.\u001b[0m\u001b[0mSearch\u001b[0m\u001b[1;33m(\u001b[0m\u001b[1;34m\"k\"\u001b[0m\u001b[1;33m)\u001b[0m\u001b[1;33m\u001b[0m\u001b[1;33m\u001b[0m\u001b[0m\n\u001b[1;32m----> 4\u001b[1;33m \u001b[0md\u001b[0m \u001b[1;33m=\u001b[0m \u001b[0mc\u001b[0m\u001b[1;33m.\u001b[0m\u001b[0mc\u001b[0m\u001b[1;33m(\u001b[0m\u001b[1;34m\"Na\"\u001b[0m\u001b[1;33m)\u001b[0m\u001b[1;33m\u001b[0m\u001b[1;33m\u001b[0m\u001b[0m\n\u001b[0m",
      "\u001b[1;31mTypeError\u001b[0m: c() missing 1 required positional argument: 'age'"
     ]
    }
   ],
   "source": [
    "import analysis.search as s\n",
    "\n",
    "c = s.Search(\"k\")\n",
    "d = c.c(\"Na\")"
   ]
  }
 ],
 "metadata": {
  "kernelspec": {
   "display_name": "Python 3",
   "language": "python",
   "name": "python3"
  },
  "language_info": {
   "codemirror_mode": {
    "name": "ipython",
    "version": 3
   },
   "file_extension": ".py",
   "mimetype": "text/x-python",
   "name": "python",
   "nbconvert_exporter": "python",
   "pygments_lexer": "ipython3",
   "version": "3.9.6"
  },
  "orig_nbformat": 4,
  "vscode": {
   "interpreter": {
    "hash": "7459fc3de7a9cfbb16956cc8e27f933e0ea1512a8cf97ca2195aa9f74a47b2b0"
   }
  }
 },
 "nbformat": 4,
 "nbformat_minor": 2
}
