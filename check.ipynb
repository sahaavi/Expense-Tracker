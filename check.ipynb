{
 "cells": [
  {
   "cell_type": "code",
   "execution_count": 2,
   "metadata": {},
   "outputs": [
    {
     "name": "stdout",
     "output_type": "stream",
     "text": [
      "No records found\n",
      "None\n"
     ]
    }
   ],
   "source": [
    "import pandas as pd\n",
    "\n",
    "import analysis.search as s\n",
    "\n",
    "statement = pd.read_csv(\"statement.csv\")\n",
    "statement['date'] = pd.to_datetime(statement['date'])\n",
    "#cname_u = input(\"Enter the category name: \")\n",
    "#amt = float(input(\"Amount: \"))\n",
    "p = s.Search(statement)\n",
    "#c = p.search_month(\"10\")\n",
    "c = p.search_year(\"2021\")\n",
    "#c = p.search_amount(amt)\n",
    "#c = p.search_category(cname_u, \"07/11/2022\", \"12/11/2022\")\n",
    "#c = p.search_amount(amt, \"07/11/2022\", \"16/11/2022\")\n",
    "#c = p.search_range(\"26/11/2022\", \"23/11/2022\")\n",
    "print(c)"
   ]
  },
  {
   "cell_type": "code",
   "execution_count": 3,
   "metadata": {},
   "outputs": [],
   "source": [
    "import pandas as pd\n",
    "\n",
    "import analysis.analysis as a\n",
    "\n",
    "statement = pd.read_csv(\"statement.csv\")\n",
    "statement['date'] = pd.to_datetime(statement['date'])\n",
    "\n",
    "j = a.Analysis(statement, \"02/11/2022\", \"26/11/2022\")"
   ]
  },
  {
   "cell_type": "code",
   "execution_count": 2,
   "metadata": {},
   "outputs": [
    {
     "data": {
      "text/plain": [
       "0.355"
      ]
     },
     "execution_count": 2,
     "metadata": {},
     "output_type": "execute_result"
    }
   ],
   "source": [
    "j.income_expense_ratio_range(1000)"
   ]
  },
  {
   "cell_type": "code",
   "execution_count": 4,
   "metadata": {},
   "outputs": [
    {
     "data": {
      "text/html": [
       "<div>\n",
       "<style scoped>\n",
       "    .dataframe tbody tr th:only-of-type {\n",
       "        vertical-align: middle;\n",
       "    }\n",
       "\n",
       "    .dataframe tbody tr th {\n",
       "        vertical-align: top;\n",
       "    }\n",
       "\n",
       "    .dataframe thead th {\n",
       "        text-align: right;\n",
       "    }\n",
       "</style>\n",
       "<table border=\"1\" class=\"dataframe\">\n",
       "  <thead>\n",
       "    <tr style=\"text-align: right;\">\n",
       "      <th></th>\n",
       "      <th>amount</th>\n",
       "      <th>percentage</th>\n",
       "    </tr>\n",
       "    <tr>\n",
       "      <th>category</th>\n",
       "      <th></th>\n",
       "      <th></th>\n",
       "    </tr>\n",
       "  </thead>\n",
       "  <tbody>\n",
       "    <tr>\n",
       "      <th>fashion</th>\n",
       "      <td>3.55</td>\n",
       "      <td>2.979938</td>\n",
       "    </tr>\n",
       "    <tr>\n",
       "      <th>grocery</th>\n",
       "      <td>10.84</td>\n",
       "      <td>9.099303</td>\n",
       "    </tr>\n",
       "    <tr>\n",
       "      <th>NaN</th>\n",
       "      <td>104.74</td>\n",
       "      <td>87.920759</td>\n",
       "    </tr>\n",
       "  </tbody>\n",
       "</table>\n",
       "</div>"
      ],
      "text/plain": [
       "          amount  percentage\n",
       "category                    \n",
       "fashion     3.55    2.979938\n",
       "grocery    10.84    9.099303\n",
       "NaN       104.74   87.920759"
      ]
     },
     "execution_count": 4,
     "metadata": {},
     "output_type": "execute_result"
    }
   ],
   "source": [
    "j.category_percentage()"
   ]
  },
  {
   "cell_type": "code",
   "execution_count": 6,
   "metadata": {},
   "outputs": [
    {
     "data": {
      "text/html": [
       "<div>\n",
       "<style scoped>\n",
       "    .dataframe tbody tr th:only-of-type {\n",
       "        vertical-align: middle;\n",
       "    }\n",
       "\n",
       "    .dataframe tbody tr th {\n",
       "        vertical-align: top;\n",
       "    }\n",
       "\n",
       "    .dataframe thead th {\n",
       "        text-align: right;\n",
       "    }\n",
       "</style>\n",
       "<table border=\"1\" class=\"dataframe\">\n",
       "  <thead>\n",
       "    <tr style=\"text-align: right;\">\n",
       "      <th></th>\n",
       "      <th>date</th>\n",
       "      <th>shop_name</th>\n",
       "      <th>amount</th>\n",
       "      <th>category</th>\n",
       "    </tr>\n",
       "  </thead>\n",
       "  <tbody>\n",
       "    <tr>\n",
       "      <th>0</th>\n",
       "      <td>2022-11-26</td>\n",
       "      <td>SQ *SCAPEGOATVINTAGE</td>\n",
       "      <td>35.01</td>\n",
       "      <td>NaN</td>\n",
       "    </tr>\n",
       "    <tr>\n",
       "      <th>1</th>\n",
       "      <td>2022-11-23</td>\n",
       "      <td>SAVE ON FOODS #2229</td>\n",
       "      <td>10.84</td>\n",
       "      <td>grocery</td>\n",
       "    </tr>\n",
       "    <tr>\n",
       "      <th>2</th>\n",
       "      <td>2022-11-23</td>\n",
       "      <td>KELOWNA GOSPEL MISSION</td>\n",
       "      <td>6.40</td>\n",
       "      <td>NaN</td>\n",
       "    </tr>\n",
       "    <tr>\n",
       "      <th>3</th>\n",
       "      <td>2022-11-17</td>\n",
       "      <td>GOLDEN ISLAND RESTAURANT</td>\n",
       "      <td>36.50</td>\n",
       "      <td>NaN</td>\n",
       "    </tr>\n",
       "    <tr>\n",
       "      <th>4</th>\n",
       "      <td>2022-11-16</td>\n",
       "      <td>KOODO TOP UP REAPPROV</td>\n",
       "      <td>15.75</td>\n",
       "      <td>NaN</td>\n",
       "    </tr>\n",
       "    <tr>\n",
       "      <th>5</th>\n",
       "      <td>2022-11-07</td>\n",
       "      <td>MICHAELS #3929</td>\n",
       "      <td>3.55</td>\n",
       "      <td>fashion</td>\n",
       "    </tr>\n",
       "    <tr>\n",
       "      <th>6</th>\n",
       "      <td>2022-11-02</td>\n",
       "      <td>SAVE ON FOODS #2229</td>\n",
       "      <td>11.08</td>\n",
       "      <td>NaN</td>\n",
       "    </tr>\n",
       "  </tbody>\n",
       "</table>\n",
       "</div>"
      ],
      "text/plain": [
       "        date                 shop_name  amount category\n",
       "0 2022-11-26      SQ *SCAPEGOATVINTAGE   35.01      NaN\n",
       "1 2022-11-23       SAVE ON FOODS #2229   10.84  grocery\n",
       "2 2022-11-23    KELOWNA GOSPEL MISSION    6.40      NaN\n",
       "3 2022-11-17  GOLDEN ISLAND RESTAURANT   36.50      NaN\n",
       "4 2022-11-16     KOODO TOP UP REAPPROV   15.75      NaN\n",
       "5 2022-11-07            MICHAELS #3929    3.55  fashion\n",
       "6 2022-11-02       SAVE ON FOODS #2229   11.08      NaN"
      ]
     },
     "execution_count": 6,
     "metadata": {},
     "output_type": "execute_result"
    }
   ],
   "source": [
    "statement"
   ]
  },
  {
   "cell_type": "code",
   "execution_count": 7,
   "metadata": {},
   "outputs": [
    {
     "data": {
      "text/plain": [
       "119.13"
      ]
     },
     "execution_count": 7,
     "metadata": {},
     "output_type": "execute_result"
    }
   ],
   "source": [
    "statement['amount'].sum()\n",
    "(10/1000)*100"
   ]
  },
  {
   "cell_type": "code",
   "execution_count": 12,
   "metadata": {},
   "outputs": [
    {
     "name": "stdout",
     "output_type": "stream",
     "text": [
      "[nan 'grocery' 'fashion']\n"
     ]
    }
   ],
   "source": [
    "print(statement['category'].unique())"
   ]
  },
  {
   "cell_type": "code",
   "execution_count": 18,
   "metadata": {},
   "outputs": [
    {
     "data": {
      "text/html": [
       "<div>\n",
       "<style scoped>\n",
       "    .dataframe tbody tr th:only-of-type {\n",
       "        vertical-align: middle;\n",
       "    }\n",
       "\n",
       "    .dataframe tbody tr th {\n",
       "        vertical-align: top;\n",
       "    }\n",
       "\n",
       "    .dataframe thead th {\n",
       "        text-align: right;\n",
       "    }\n",
       "</style>\n",
       "<table border=\"1\" class=\"dataframe\">\n",
       "  <thead>\n",
       "    <tr style=\"text-align: right;\">\n",
       "      <th></th>\n",
       "      <th>amount</th>\n",
       "    </tr>\n",
       "    <tr>\n",
       "      <th>category</th>\n",
       "      <th></th>\n",
       "    </tr>\n",
       "  </thead>\n",
       "  <tbody>\n",
       "    <tr>\n",
       "      <th>fashion</th>\n",
       "      <td>3.55</td>\n",
       "    </tr>\n",
       "    <tr>\n",
       "      <th>grocery</th>\n",
       "      <td>10.84</td>\n",
       "    </tr>\n",
       "    <tr>\n",
       "      <th>NaN</th>\n",
       "      <td>104.74</td>\n",
       "    </tr>\n",
       "  </tbody>\n",
       "</table>\n",
       "</div>"
      ],
      "text/plain": [
       "          amount\n",
       "category        \n",
       "fashion     3.55\n",
       "grocery    10.84\n",
       "NaN       104.74"
      ]
     },
     "execution_count": 18,
     "metadata": {},
     "output_type": "execute_result"
    }
   ],
   "source": [
    "statement.groupby([\"category\"], dropna=False).sum()"
   ]
  },
  {
   "cell_type": "code",
   "execution_count": 19,
   "metadata": {},
   "outputs": [
    {
     "data": {
      "text/html": [
       "<div>\n",
       "<style scoped>\n",
       "    .dataframe tbody tr th:only-of-type {\n",
       "        vertical-align: middle;\n",
       "    }\n",
       "\n",
       "    .dataframe tbody tr th {\n",
       "        vertical-align: top;\n",
       "    }\n",
       "\n",
       "    .dataframe thead th {\n",
       "        text-align: right;\n",
       "    }\n",
       "</style>\n",
       "<table border=\"1\" class=\"dataframe\">\n",
       "  <thead>\n",
       "    <tr style=\"text-align: right;\">\n",
       "      <th></th>\n",
       "      <th>date</th>\n",
       "      <th>shop_name</th>\n",
       "      <th>amount</th>\n",
       "      <th>category</th>\n",
       "      <th>%</th>\n",
       "    </tr>\n",
       "  </thead>\n",
       "  <tbody>\n",
       "    <tr>\n",
       "      <th>0</th>\n",
       "      <td>2022-11-26</td>\n",
       "      <td>SQ *SCAPEGOATVINTAGE</td>\n",
       "      <td>35.01</td>\n",
       "      <td>NaN</td>\n",
       "      <td>NaN</td>\n",
       "    </tr>\n",
       "    <tr>\n",
       "      <th>1</th>\n",
       "      <td>2022-11-23</td>\n",
       "      <td>SAVE ON FOODS #2229</td>\n",
       "      <td>10.84</td>\n",
       "      <td>grocery</td>\n",
       "      <td>100.0</td>\n",
       "    </tr>\n",
       "    <tr>\n",
       "      <th>2</th>\n",
       "      <td>2022-11-23</td>\n",
       "      <td>KELOWNA GOSPEL MISSION</td>\n",
       "      <td>6.40</td>\n",
       "      <td>NaN</td>\n",
       "      <td>NaN</td>\n",
       "    </tr>\n",
       "    <tr>\n",
       "      <th>3</th>\n",
       "      <td>2022-11-17</td>\n",
       "      <td>GOLDEN ISLAND RESTAURANT</td>\n",
       "      <td>36.50</td>\n",
       "      <td>NaN</td>\n",
       "      <td>NaN</td>\n",
       "    </tr>\n",
       "    <tr>\n",
       "      <th>4</th>\n",
       "      <td>2022-11-16</td>\n",
       "      <td>KOODO TOP UP REAPPROV</td>\n",
       "      <td>15.75</td>\n",
       "      <td>NaN</td>\n",
       "      <td>NaN</td>\n",
       "    </tr>\n",
       "    <tr>\n",
       "      <th>5</th>\n",
       "      <td>2022-11-07</td>\n",
       "      <td>MICHAELS #3929</td>\n",
       "      <td>3.55</td>\n",
       "      <td>fashion</td>\n",
       "      <td>100.0</td>\n",
       "    </tr>\n",
       "    <tr>\n",
       "      <th>6</th>\n",
       "      <td>2022-11-02</td>\n",
       "      <td>SAVE ON FOODS #2229</td>\n",
       "      <td>11.08</td>\n",
       "      <td>NaN</td>\n",
       "      <td>NaN</td>\n",
       "    </tr>\n",
       "  </tbody>\n",
       "</table>\n",
       "</div>"
      ],
      "text/plain": [
       "        date                 shop_name  amount category      %\n",
       "0 2022-11-26      SQ *SCAPEGOATVINTAGE   35.01      NaN    NaN\n",
       "1 2022-11-23       SAVE ON FOODS #2229   10.84  grocery  100.0\n",
       "2 2022-11-23    KELOWNA GOSPEL MISSION    6.40      NaN    NaN\n",
       "3 2022-11-17  GOLDEN ISLAND RESTAURANT   36.50      NaN    NaN\n",
       "4 2022-11-16     KOODO TOP UP REAPPROV   15.75      NaN    NaN\n",
       "5 2022-11-07            MICHAELS #3929    3.55  fashion  100.0\n",
       "6 2022-11-02       SAVE ON FOODS #2229   11.08      NaN    NaN"
      ]
     },
     "execution_count": 19,
     "metadata": {},
     "output_type": "execute_result"
    }
   ],
   "source": [
    "statement['%'] = 100 * statement['amount'] / statement.groupby('category')['amount'].transform('sum')\n",
    "statement"
   ]
  },
  {
   "cell_type": "code",
   "execution_count": 4,
   "metadata": {},
   "outputs": [
    {
     "name": "stdout",
     "output_type": "stream",
     "text": [
      "2022-11-26 00:00:00 SQ *SCAPEGOATVINTAGE\n",
      "2022-11-23 00:00:00 SAVE ON FOODS #2229\n",
      "2022-11-23 00:00:00 KELOWNA GOSPEL MISSION\n",
      "2022-11-17 00:00:00 GOLDEN ISLAND RESTAURANT\n",
      "2022-11-16 00:00:00 KOODO TOP UP REAPPROV\n",
      "2022-11-07 00:00:00 MICHAELS #3929\n",
      "2022-11-02 00:00:00 SAVE ON FOODS #2229\n"
     ]
    }
   ],
   "source": [
    "\n",
    "# iterate over the rows of the dataframe\n",
    "for index, row in statement.iterrows():\n",
    "    # access data for each column by column name\n",
    "    print(row['date'], row['shop_name'])\n",
    "    input(\"ente\")\n"
   ]
  }
 ],
 "metadata": {
  "kernelspec": {
   "display_name": "Python 3",
   "language": "python",
   "name": "python3"
  },
  "language_info": {
   "codemirror_mode": {
    "name": "ipython",
    "version": 3
   },
   "file_extension": ".py",
   "mimetype": "text/x-python",
   "name": "python",
   "nbconvert_exporter": "python",
   "pygments_lexer": "ipython3",
   "version": "3.9.6"
  },
  "orig_nbformat": 4,
  "vscode": {
   "interpreter": {
    "hash": "7459fc3de7a9cfbb16956cc8e27f933e0ea1512a8cf97ca2195aa9f74a47b2b0"
   }
  }
 },
 "nbformat": 4,
 "nbformat_minor": 2
}
