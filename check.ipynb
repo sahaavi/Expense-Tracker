{
 "cells": [
  {
   "cell_type": "code",
   "execution_count": 1,
   "metadata": {},
   "outputs": [
    {
     "name": "stdout",
     "output_type": "stream",
     "text": [
      "Starting date is bigger than ending date!\n"
     ]
    }
   ],
   "source": [
    "import pandas as pd\n",
    "\n",
    "import analysis.search as s\n",
    "\n",
    "statement = pd.read_csv(\"statement.csv\")\n",
    "statement['date'] = pd.to_datetime(statement['date'])\n",
    "#statement = statement['date'].dt.date\n",
    "# #cname_u = input(\"Enter the category name: \")\n",
    "p = s.Search(statement)\n",
    "# #c = p.search_category(cname_u, \"10/23/2022\", \"11/23/2022\")\n",
    "c = p.search_range(\"26/11/2022\", \"23/11/2022\")\n",
    "print(c)"
   ]
  },
  {
   "cell_type": "code",
   "execution_count": null,
   "metadata": {},
   "outputs": [],
   "source": [
    "d = p.search_category(cname_u, \"10/23/2022\", \"11/23/2022\")\n",
    "print(d)"
   ]
  },
  {
   "cell_type": "code",
   "execution_count": null,
   "metadata": {},
   "outputs": [],
   "source": [
    "statement"
   ]
  },
  {
   "cell_type": "code",
   "execution_count": 12,
   "metadata": {},
   "outputs": [
    {
     "name": "stdout",
     "output_type": "stream",
     "text": [
      "False\n"
     ]
    }
   ],
   "source": [
    "from datetime import datetime\n",
    "date1 = \"26/11/2022\"\n",
    "date2 = \"23/11/2022\"\n",
    "\n",
    "if(datetime.strptime(date1, \"%d/%m/%Y\") < datetime.strptime(date2, \"%d/%m/%Y\")):\n",
    "    print(\"True\")\n",
    "else:\n",
    "    print(\"False\")"
   ]
  }
 ],
 "metadata": {
  "kernelspec": {
   "display_name": "Python 3",
   "language": "python",
   "name": "python3"
  },
  "language_info": {
   "codemirror_mode": {
    "name": "ipython",
    "version": 3
   },
   "file_extension": ".py",
   "mimetype": "text/x-python",
   "name": "python",
   "nbconvert_exporter": "python",
   "pygments_lexer": "ipython3",
   "version": "3.9.6"
  },
  "orig_nbformat": 4,
  "vscode": {
   "interpreter": {
    "hash": "7459fc3de7a9cfbb16956cc8e27f933e0ea1512a8cf97ca2195aa9f74a47b2b0"
   }
  }
 },
 "nbformat": 4,
 "nbformat_minor": 2
}
