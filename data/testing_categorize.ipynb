{
 "cells": [
  {
   "attachments": {},
   "cell_type": "markdown",
   "metadata": {},
   "source": [
    "I checked that everything worked individually altho this doc doesn't prove it lol\n",
    "\n",
    "### To do\n",
    "- maybe find a way to fix the FutureWarning in add_csv\n",
    "- make all work w/ main doc thing (store_data module?)\n",
    "- write each others documentation (what exactly does that entail? check documentation for 'real' packages)\n"
   ]
  },
  {
   "cell_type": "code",
   "execution_count": 1,
   "metadata": {},
   "outputs": [
    {
     "name": "stdout",
     "output_type": "stream",
     "text": [
      "Confirm input (y/n): Date: 2022-12-01 00:00:00, Transaction name: RENT, Amount: 700, Category: misc\n"
     ]
    },
    {
     "name": "stderr",
     "output_type": "stream",
     "text": [
      "/Users/mf/Desktop/533/Expense-Tracker-and-Analysis-1/data/store_data.py:54: FutureWarning: The frame.append method is deprecated and will be removed from pandas in a future version. Use pandas.concat instead.\n",
      "  self.maindf = self.maindf.append(userdf)\n"
     ]
    }
   ],
   "source": [
    "import store_data as sd\n",
    "import categorize_data as cd\n",
    "catlist = {1:\"groceries\", 2:\"dining out\", 3:\"household\", 4:\"clothing\", 5:\"misc\"} #defined in main doc\n",
    "dict_cat_shop = {} #empty to start, as user categorizes, starts to fill; shop_name:category\n",
    "p1 = sd.Expenses()\n",
    "p1.add_csv()\n",
    "p1.add_expenses(catlist)\n",
    "df = p1.show_expenses() # this is the name of the dataframe which will be set in the main doc\n"
   ]
  },
  {
   "cell_type": "code",
   "execution_count": null,
   "metadata": {},
   "outputs": [],
   "source": [
    "cd.categorize_all(df, catlist, dict_cat_shop)\n",
    "# need it to print the list first, doesn't always do it maybe just b/c vscode"
   ]
  },
  {
   "cell_type": "code",
   "execution_count": 4,
   "metadata": {},
   "outputs": [
    {
     "name": "stdout",
     "output_type": "stream",
     "text": [
      "{1: 'groceries', 2: 'dining out', 3: 'household', 4: 'clothing', 5: 'misc'}\n",
      "Deleting household\n"
     ]
    }
   ],
   "source": [
    "cd.delete_category(df, catlist, dict_cat_shop)"
   ]
  },
  {
   "cell_type": "code",
   "execution_count": 3,
   "metadata": {},
   "outputs": [
    {
     "name": "stdout",
     "output_type": "stream",
     "text": [
      "{1: 'groceries', 2: 'dining out', 3: 'household', 4: 'clothing', 5: 'misc'}\n"
     ]
    }
   ],
   "source": [
    "cd.add_category(catlist)"
   ]
  },
  {
   "cell_type": "code",
   "execution_count": 4,
   "metadata": {},
   "outputs": [
    {
     "name": "stdout",
     "output_type": "stream",
     "text": [
      "{1: 'groceries', 2: 'dining out', 3: 'household', 4: 'clothing', 5: 'misc', 6: 'other'}\n",
      "Renaming misc as travel\n",
      "Cancelling renaming\n"
     ]
    }
   ],
   "source": [
    "cd.update_category(df, catlist, dict_cat_shop)"
   ]
  },
  {
   "cell_type": "code",
   "execution_count": 2,
   "metadata": {},
   "outputs": [
    {
     "name": "stdout",
     "output_type": "stream",
     "text": [
      "        date                 shop_name  amount category\n",
      "0 2022-11-26      SQ *SCAPEGOATVINTAGE   35.01         \n",
      "1 2022-11-23       SAVE ON FOODS #2229   10.84         \n",
      "2 2022-11-23    KELOWNA GOSPEL MISSION    6.40         \n",
      "3 2022-11-17  GOLDEN ISLAND RESTAURANT   36.50         \n",
      "4 2022-11-16     KOODO TOP UP REAPPROV   15.75         \n",
      "5 2022-11-07            MICHAELS #3929    3.55         \n",
      "6 2022-11-02       SAVE ON FOODS #2229   11.08         \n",
      "7 2022-12-01                      RENT  700.00     misc\n",
      "        date            shop_name  amount category\n",
      "1 2022-11-23  SAVE ON FOODS #2229   10.84         \n",
      "{1: 'groceries', 2: 'dining out', 3: 'household', 4: 'clothing', 5: 'misc'}\n",
      "Updating the category of line 1 to groceries\n"
     ]
    }
   ],
   "source": [
    "cd.categorize_item(df, catlist, dict_cat_shop)"
   ]
  },
  {
   "cell_type": "code",
   "execution_count": 7,
   "metadata": {},
   "outputs": [
    {
     "data": {
      "text/html": [
       "<div>\n",
       "<style scoped>\n",
       "    .dataframe tbody tr th:only-of-type {\n",
       "        vertical-align: middle;\n",
       "    }\n",
       "\n",
       "    .dataframe tbody tr th {\n",
       "        vertical-align: top;\n",
       "    }\n",
       "\n",
       "    .dataframe thead th {\n",
       "        text-align: right;\n",
       "    }\n",
       "</style>\n",
       "<table border=\"1\" class=\"dataframe\">\n",
       "  <thead>\n",
       "    <tr style=\"text-align: right;\">\n",
       "      <th></th>\n",
       "      <th>date</th>\n",
       "      <th>shop_name</th>\n",
       "      <th>amount</th>\n",
       "      <th>category</th>\n",
       "    </tr>\n",
       "  </thead>\n",
       "  <tbody>\n",
       "    <tr>\n",
       "      <th>0</th>\n",
       "      <td>2022-11-26</td>\n",
       "      <td>SQ *SCAPEGOATVINTAGE</td>\n",
       "      <td>35.01</td>\n",
       "      <td>grocery</td>\n",
       "    </tr>\n",
       "    <tr>\n",
       "      <th>1</th>\n",
       "      <td>2022-11-23</td>\n",
       "      <td>SAVE ON FOODS #2229</td>\n",
       "      <td>10.84</td>\n",
       "      <td>dining out</td>\n",
       "    </tr>\n",
       "    <tr>\n",
       "      <th>2</th>\n",
       "      <td>2022-11-23</td>\n",
       "      <td>KELOWNA GOSPEL MISSION</td>\n",
       "      <td>6.40</td>\n",
       "      <td>household</td>\n",
       "    </tr>\n",
       "    <tr>\n",
       "      <th>3</th>\n",
       "      <td>2022-11-17</td>\n",
       "      <td>GOLDEN ISLAND RESTAURANT</td>\n",
       "      <td>36.50</td>\n",
       "      <td>dining out</td>\n",
       "    </tr>\n",
       "    <tr>\n",
       "      <th>4</th>\n",
       "      <td>2022-11-16</td>\n",
       "      <td>KOODO TOP UP REAPPROV</td>\n",
       "      <td>15.75</td>\n",
       "      <td>misc</td>\n",
       "    </tr>\n",
       "    <tr>\n",
       "      <th>5</th>\n",
       "      <td>2022-11-07</td>\n",
       "      <td>MICHAELS #3929</td>\n",
       "      <td>3.55</td>\n",
       "      <td>misc</td>\n",
       "    </tr>\n",
       "    <tr>\n",
       "      <th>6</th>\n",
       "      <td>2022-11-02</td>\n",
       "      <td>SAVE ON FOODS #2229</td>\n",
       "      <td>11.08</td>\n",
       "      <td>dining out</td>\n",
       "    </tr>\n",
       "    <tr>\n",
       "      <th>7</th>\n",
       "      <td>2022-12-01</td>\n",
       "      <td>RENT</td>\n",
       "      <td>700.00</td>\n",
       "      <td>misc</td>\n",
       "    </tr>\n",
       "  </tbody>\n",
       "</table>\n",
       "</div>"
      ],
      "text/plain": [
       "        date                 shop_name  amount    category\n",
       "0 2022-11-26      SQ *SCAPEGOATVINTAGE   35.01     grocery\n",
       "1 2022-11-23       SAVE ON FOODS #2229   10.84  dining out\n",
       "2 2022-11-23    KELOWNA GOSPEL MISSION    6.40   household\n",
       "3 2022-11-17  GOLDEN ISLAND RESTAURANT   36.50  dining out\n",
       "4 2022-11-16     KOODO TOP UP REAPPROV   15.75        misc\n",
       "5 2022-11-07            MICHAELS #3929    3.55        misc\n",
       "6 2022-11-02       SAVE ON FOODS #2229   11.08  dining out\n",
       "7 2022-12-01                      RENT  700.00        misc"
      ]
     },
     "execution_count": 7,
     "metadata": {},
     "output_type": "execute_result"
    }
   ],
   "source": [
    "df"
   ]
  },
  {
   "cell_type": "code",
   "execution_count": null,
   "metadata": {},
   "outputs": [],
   "source": [
    "\n"
   ]
  }
 ],
 "metadata": {
  "kernelspec": {
   "display_name": "base",
   "language": "python",
   "name": "python3"
  },
  "language_info": {
   "codemirror_mode": {
    "name": "ipython",
    "version": 3
   },
   "file_extension": ".py",
   "mimetype": "text/x-python",
   "name": "python",
   "nbconvert_exporter": "python",
   "pygments_lexer": "ipython3",
   "version": "3.9.12"
  },
  "orig_nbformat": 4,
  "vscode": {
   "interpreter": {
    "hash": "9ec608e29b5510148f134c44880988ebb2ac66a41f02b54b9de95ee57be27d06"
   }
  }
 },
 "nbformat": 4,
 "nbformat_minor": 2
}
