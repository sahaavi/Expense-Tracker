{
 "cells": [
  {
   "attachments": {},
   "cell_type": "markdown",
   "metadata": {},
   "source": []
  },
  {
   "cell_type": "code",
   "execution_count": 4,
   "metadata": {},
   "outputs": [
    {
     "name": "stdout",
     "output_type": "stream",
     "text": [
      "Confirm input (y/n): Date: 2022-12-01 00:00:00, Transaction name: rent, Amount: 700, Category: misc\n"
     ]
    },
    {
     "name": "stderr",
     "output_type": "stream",
     "text": [
      "/Users/mf/Desktop/533/Expense-Tracker-and-Analysis-1/data/store_data.py:54: FutureWarning: The frame.append method is deprecated and will be removed from pandas in a future version. Use pandas.concat instead.\n",
      "  self.maindf = self.maindf.append(userdf)\n"
     ]
    }
   ],
   "source": [
    "import store_data as sd\n",
    "import categorize_data as cd\n",
    "catlist = {1:\"groceries\", 2:\"dining out\", 3:\"household\", 4:\"clothing\", 5:\"misc\"} #defined in main doc ?\n",
    "\n",
    "p1 = sd.Expenses()\n",
    "p1.add_csv()\n",
    "p1.add_expenses(catlist)\n",
    "var = p1.show_expenses() # this is the name of the dataframe which will be set in the main doc\n"
   ]
  },
  {
   "cell_type": "code",
   "execution_count": 5,
   "metadata": {},
   "outputs": [
    {
     "name": "stdout",
     "output_type": "stream",
     "text": [
      "{1: 'groceries', 2: 'dining out', 3: 'household', 4: 'clothing', 5: 'misc'}\n",
      "2022-11-26 00:00:00 SQ *SCAPEGOATVINTAGE 35.01 \n",
      "2022-11-23 00:00:00 SAVE ON FOODS #2229 10.84 \n",
      "2022-11-23 00:00:00 KELOWNA GOSPEL MISSION 6.4 \n",
      "2022-11-17 00:00:00 GOLDEN ISLAND RESTAURANT 36.5 \n",
      "2022-11-16 00:00:00 KOODO TOP UP REAPPROV 15.75 \n",
      "2022-11-07 00:00:00 MICHAELS #3929 3.55 \n",
      "2022-11-02 00:00:00 SAVE ON FOODS #2229 11.08 \n"
     ]
    }
   ],
   "source": [
    "cd.categorize_all(var, catlist)\n",
    "# need it to print the list first, doesn't always do it maybe just b/c vscode\n"
   ]
  },
  {
   "cell_type": "code",
   "execution_count": 6,
   "metadata": {},
   "outputs": [
    {
     "data": {
      "text/html": [
       "<div>\n",
       "<style scoped>\n",
       "    .dataframe tbody tr th:only-of-type {\n",
       "        vertical-align: middle;\n",
       "    }\n",
       "\n",
       "    .dataframe tbody tr th {\n",
       "        vertical-align: top;\n",
       "    }\n",
       "\n",
       "    .dataframe thead th {\n",
       "        text-align: right;\n",
       "    }\n",
       "</style>\n",
       "<table border=\"1\" class=\"dataframe\">\n",
       "  <thead>\n",
       "    <tr style=\"text-align: right;\">\n",
       "      <th></th>\n",
       "      <th>date</th>\n",
       "      <th>shop_name</th>\n",
       "      <th>amount</th>\n",
       "      <th>category</th>\n",
       "    </tr>\n",
       "  </thead>\n",
       "  <tbody>\n",
       "    <tr>\n",
       "      <th>0</th>\n",
       "      <td>2022-11-26</td>\n",
       "      <td>SQ *SCAPEGOATVINTAGE</td>\n",
       "      <td>35.01</td>\n",
       "      <td>groceries</td>\n",
       "    </tr>\n",
       "    <tr>\n",
       "      <th>1</th>\n",
       "      <td>2022-11-23</td>\n",
       "      <td>SAVE ON FOODS #2229</td>\n",
       "      <td>10.84</td>\n",
       "      <td>dining out</td>\n",
       "    </tr>\n",
       "    <tr>\n",
       "      <th>2</th>\n",
       "      <td>2022-11-23</td>\n",
       "      <td>KELOWNA GOSPEL MISSION</td>\n",
       "      <td>6.40</td>\n",
       "      <td>household</td>\n",
       "    </tr>\n",
       "    <tr>\n",
       "      <th>3</th>\n",
       "      <td>2022-11-17</td>\n",
       "      <td>GOLDEN ISLAND RESTAURANT</td>\n",
       "      <td>36.50</td>\n",
       "      <td>clothing</td>\n",
       "    </tr>\n",
       "    <tr>\n",
       "      <th>4</th>\n",
       "      <td>2022-11-16</td>\n",
       "      <td>KOODO TOP UP REAPPROV</td>\n",
       "      <td>15.75</td>\n",
       "      <td>misc</td>\n",
       "    </tr>\n",
       "    <tr>\n",
       "      <th>5</th>\n",
       "      <td>2022-11-07</td>\n",
       "      <td>MICHAELS #3929</td>\n",
       "      <td>3.55</td>\n",
       "      <td>groceries</td>\n",
       "    </tr>\n",
       "    <tr>\n",
       "      <th>6</th>\n",
       "      <td>2022-11-02</td>\n",
       "      <td>SAVE ON FOODS #2229</td>\n",
       "      <td>11.08</td>\n",
       "      <td>dining out</td>\n",
       "    </tr>\n",
       "    <tr>\n",
       "      <th>7</th>\n",
       "      <td>2022-12-01</td>\n",
       "      <td>rent</td>\n",
       "      <td>700.00</td>\n",
       "      <td>misc</td>\n",
       "    </tr>\n",
       "  </tbody>\n",
       "</table>\n",
       "</div>"
      ],
      "text/plain": [
       "        date                 shop_name  amount    category\n",
       "0 2022-11-26      SQ *SCAPEGOATVINTAGE   35.01   groceries\n",
       "1 2022-11-23       SAVE ON FOODS #2229   10.84  dining out\n",
       "2 2022-11-23    KELOWNA GOSPEL MISSION    6.40   household\n",
       "3 2022-11-17  GOLDEN ISLAND RESTAURANT   36.50    clothing\n",
       "4 2022-11-16     KOODO TOP UP REAPPROV   15.75        misc\n",
       "5 2022-11-07            MICHAELS #3929    3.55   groceries\n",
       "6 2022-11-02       SAVE ON FOODS #2229   11.08  dining out\n",
       "7 2022-12-01                      rent  700.00        misc"
      ]
     },
     "execution_count": 6,
     "metadata": {},
     "output_type": "execute_result"
    }
   ],
   "source": [
    "var"
   ]
  },
  {
   "cell_type": "code",
   "execution_count": null,
   "metadata": {},
   "outputs": [],
   "source": [
    "\n"
   ]
  }
 ],
 "metadata": {
  "kernelspec": {
   "display_name": "base",
   "language": "python",
   "name": "python3"
  },
  "language_info": {
   "codemirror_mode": {
    "name": "ipython",
    "version": 3
   },
   "file_extension": ".py",
   "mimetype": "text/x-python",
   "name": "python",
   "nbconvert_exporter": "python",
   "pygments_lexer": "ipython3",
   "version": "3.9.12"
  },
  "orig_nbformat": 4,
  "vscode": {
   "interpreter": {
    "hash": "9ec608e29b5510148f134c44880988ebb2ac66a41f02b54b9de95ee57be27d06"
   }
  }
 },
 "nbformat": 4,
 "nbformat_minor": 2
}
