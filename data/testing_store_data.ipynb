{
 "cells": [
  {
   "cell_type": "code",
   "execution_count": 1,
   "id": "a58841d0",
   "metadata": {},
   "outputs": [],
   "source": [
    "import store_data as sd\n",
    "p1 = sd.Expenses()"
   ]
  },
  {
   "cell_type": "code",
   "execution_count": 2,
   "id": "8f184247",
   "metadata": {},
   "outputs": [],
   "source": []
  },
  {
   "cell_type": "code",
   "execution_count": 2,
   "id": "f19bba65",
   "metadata": {},
   "outputs": [
    {
     "name": "stdout",
     "output_type": "stream",
     "text": [
      "File to add is: accountactivity.csv\n",
      "         date                 shop_name  amount category\n",
      "0  11/26/2022      SQ *SCAPEGOATVINTAGE   35.01         \n",
      "1  11/23/2022       SAVE ON FOODS #2229   10.84         \n",
      "2  11/23/2022    KELOWNA GOSPEL MISSION    6.40         \n",
      "3  11/17/2022  GOLDEN ISLAND RESTAURANT   36.50         \n",
      "4  11/16/2022     KOODO TOP UP REAPPROV   15.75         \n",
      "5  11/07/2022            MICHAELS #3929    3.55         \n",
      "6  11/02/2022       SAVE ON FOODS #2229   11.08         \n",
      "7  10/29/2022       PAYMENT - THANK YOU     NaN         \n",
      "         date                 shop_name  amount category\n",
      "0  11/26/2022      SQ *SCAPEGOATVINTAGE   35.01         \n",
      "1  11/23/2022       SAVE ON FOODS #2229   10.84         \n",
      "2  11/23/2022    KELOWNA GOSPEL MISSION    6.40         \n",
      "3  11/17/2022  GOLDEN ISLAND RESTAURANT   36.50         \n",
      "4  11/16/2022     KOODO TOP UP REAPPROV   15.75         \n",
      "5  11/07/2022            MICHAELS #3929    3.55         \n",
      "6  11/02/2022       SAVE ON FOODS #2229   11.08         \n",
      "7  10/29/2022       PAYMENT - THANK YOU     NaN         \n"
     ]
    },
    {
     "name": "stderr",
     "output_type": "stream",
     "text": [
      "/Users/mf/Desktop/533/Expense-Tracker-and-Analysis-1/data/store_data.py:26: FutureWarning: The frame.append method is deprecated and will be removed from pandas in a future version. Use pandas.concat instead.\n",
      "  self.maindf = self.maindf.append(userdf)\n"
     ]
    }
   ],
   "source": [
    "p1.add_csv()"
   ]
  },
  {
   "cell_type": "code",
   "execution_count": 4,
   "id": "590c7956",
   "metadata": {},
   "outputs": [
    {
     "name": "stdout",
     "output_type": "stream",
     "text": [
      "pls Empty DataFrame\n",
      "Columns: [date, shop_name, amount, category]\n",
      "Index: []\n"
     ]
    }
   ],
   "source": [
    "p1.show_expenses()"
   ]
  },
  {
   "cell_type": "code",
   "execution_count": null,
   "id": "48241ddd",
   "metadata": {},
   "outputs": [],
   "source": []
  }
 ],
 "metadata": {
  "kernelspec": {
   "display_name": "base",
   "language": "python",
   "name": "python3"
  },
  "language_info": {
   "codemirror_mode": {
    "name": "ipython",
    "version": 3
   },
   "file_extension": ".py",
   "mimetype": "text/x-python",
   "name": "python",
   "nbconvert_exporter": "python",
   "pygments_lexer": "ipython3",
   "version": "3.9.12"
  },
  "vscode": {
   "interpreter": {
    "hash": "9ec608e29b5510148f134c44880988ebb2ac66a41f02b54b9de95ee57be27d06"
   }
  }
 },
 "nbformat": 4,
 "nbformat_minor": 5
}
