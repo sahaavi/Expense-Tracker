{
 "cells": [
  {
   "cell_type": "code",
   "execution_count": 1,
   "id": "a58841d0",
   "metadata": {},
   "outputs": [
    {
     "name": "stdout",
     "output_type": "stream",
     "text": [
      "File to add is: accountactivity.csv\n"
     ]
    },
    {
     "name": "stderr",
     "output_type": "stream",
     "text": [
      "/Users/mf/Desktop/533/Expense-Tracker-and-Analysis-1/data/store_data.py:48: FutureWarning: The frame.append method is deprecated and will be removed from pandas in a future version. Use pandas.concat instead.\n",
      "  self.maindf = self.maindf.append(userdf)\n"
     ]
    }
   ],
   "source": [
    "import store_data as sd\n",
    "p1 = sd.Expenses()\n",
    "p1.add_csv()"
   ]
  },
  {
   "cell_type": "code",
   "execution_count": 2,
   "id": "8f184247",
   "metadata": {},
   "outputs": [
    {
     "name": "stdout",
     "output_type": "stream",
     "text": [
      "Confirm input (y/n): Date: 2022-12-01 00:00:00, Transaction name: Rent, Amount: 700.0, Category: essential\n"
     ]
    }
   ],
   "source": [
    "p1.add_expenses()"
   ]
  },
  {
   "cell_type": "code",
   "execution_count": 3,
   "id": "590c7956",
   "metadata": {},
   "outputs": [
    {
     "name": "stdout",
     "output_type": "stream",
     "text": [
      "        date                 shop_name  amount   category\n",
      "0 2022-11-26      SQ *SCAPEGOATVINTAGE   35.01           \n",
      "1 2022-11-23       SAVE ON FOODS #2229   10.84           \n",
      "2 2022-11-23    KELOWNA GOSPEL MISSION    6.40           \n",
      "3 2022-11-17  GOLDEN ISLAND RESTAURANT   36.50           \n",
      "4 2022-11-16     KOODO TOP UP REAPPROV   15.75           \n",
      "5 2022-11-07            MICHAELS #3929    3.55           \n",
      "6 2022-11-02       SAVE ON FOODS #2229   11.08           \n",
      "7 2022-12-01                      Rent  700.00  essential\n"
     ]
    }
   ],
   "source": [
    "p1.show_expenses()"
   ]
  },
  {
   "cell_type": "code",
   "execution_count": 4,
   "id": "48241ddd",
   "metadata": {},
   "outputs": [
    {
     "name": "stdout",
     "output_type": "stream",
     "text": [
      "        date                 shop_name  amount   category\n",
      "0 2022-11-26      SQ *SCAPEGOATVINTAGE   35.01           \n",
      "1 2022-11-23       SAVE ON FOODS #2229   10.84           \n",
      "2 2022-11-23    KELOWNA GOSPEL MISSION    6.40           \n",
      "3 2022-11-17  GOLDEN ISLAND RESTAURANT   36.50           \n",
      "4 2022-11-16     KOODO TOP UP REAPPROV   15.75           \n",
      "5 2022-11-07            MICHAELS #3929    3.55           \n",
      "6 2022-11-02       SAVE ON FOODS #2229   11.08           \n",
      "7 2022-12-01                      Rent  700.00  essential\n",
      "invalid literal for int() with base 10: 'l'\n"
     ]
    }
   ],
   "source": [
    "p1.delete_expenses()\n",
    "# debug, needs to print items before need to input so can see which row"
   ]
  },
  {
   "cell_type": "code",
   "execution_count": 5,
   "id": "4777faa5",
   "metadata": {},
   "outputs": [],
   "source": [
    "p1.export_expenses()"
   ]
  },
  {
   "cell_type": "code",
   "execution_count": null,
   "id": "981d7c44",
   "metadata": {},
   "outputs": [],
   "source": []
  }
 ],
 "metadata": {
  "kernelspec": {
   "display_name": "base",
   "language": "python",
   "name": "python3"
  },
  "language_info": {
   "codemirror_mode": {
    "name": "ipython",
    "version": 3
   },
   "file_extension": ".py",
   "mimetype": "text/x-python",
   "name": "python",
   "nbconvert_exporter": "python",
   "pygments_lexer": "ipython3",
   "version": "3.9.12"
  },
  "vscode": {
   "interpreter": {
    "hash": "9ec608e29b5510148f134c44880988ebb2ac66a41f02b54b9de95ee57be27d06"
   }
  }
 },
 "nbformat": 4,
 "nbformat_minor": 5
}
